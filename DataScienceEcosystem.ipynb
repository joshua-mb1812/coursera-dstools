{
 "cells": [
  {
   "cell_type": "markdown",
   "id": "7f6e267c-1a80-4a61-8ed0-16fe9242e537",
   "metadata": {},
   "source": [
    "# Data Science Tools and Ecosystem"
   ]
  },
  {
   "cell_type": "markdown",
   "id": "300df9bf-d1ab-437d-aaa4-d22a6e8af046",
   "metadata": {},
   "source": [
    "In this notebook, Data Science Tools and Ecosystem are summarized."
   ]
  },
  {
   "cell_type": "markdown",
   "id": "3aee3ef0-aa02-42ae-8069-79ad9be69bf8",
   "metadata": {},
   "source": [
    "**Objectives**\n",
    "- List popular languages for data science\n",
    "- List commonly-used libraries for data science\n",
    "- List data science tools\n",
    "- Perform arithmetic expressions in Python"
   ]
  },
  {
   "cell_type": "markdown",
   "id": "335a9ac9-bdaf-482b-ab97-0af666b74e7e",
   "metadata": {},
   "source": [
    "Some of the popular languages that Data Scientists use are:\n",
    "1. Python\n",
    "2. R\n",
    "3. Julia\n",
    "4. Java\n",
    "5. JavaScript"
   ]
  },
  {
   "cell_type": "markdown",
   "id": "d7158079-b09e-44a3-b982-868e22eba5ef",
   "metadata": {},
   "source": [
    "Some of the commonly used libraries used by Data Scientists include:\n",
    "1. numpy\n",
    "2. matplotlib\n",
    "3. plotly\n",
    "4. seaborn\n",
    "5. pandas\n"
   ]
  },
  {
   "cell_type": "markdown",
   "id": "a4b29859-bb76-40df-9070-f822e906fc47",
   "metadata": {},
   "source": [
    "| Data Science Tools |\n",
    "| :- |\n",
    "| Jupyter Notebooks |\n",
    "| Visual Studio Code |\n",
    "| RStudio |"
   ]
  },
  {
   "cell_type": "markdown",
   "id": "8d354582-b42a-4224-bec3-8092e5e95d3b",
   "metadata": {},
   "source": [
    "### Below are a few examples of evaluating arithmetic expressions in Python."
   ]
  },
  {
   "cell_type": "code",
   "execution_count": 16,
   "id": "52f87978-8de4-4fb2-9f64-1945604ed1c3",
   "metadata": {},
   "outputs": [
    {
     "data": {
      "text/plain": [
       "17"
      ]
     },
     "execution_count": 16,
     "metadata": {},
     "output_type": "execute_result"
    }
   ],
   "source": [
    "(3*4)+5\n",
    "# This a simple arithmetic expression to mutiply then add integers"
   ]
  },
  {
   "cell_type": "code",
   "execution_count": 24,
   "id": "d624d046-8407-4d07-adf0-017793e7ee54",
   "metadata": {},
   "outputs": [
    {
     "data": {
      "text/plain": [
       "3.3333333333333335"
      ]
     },
     "execution_count": 24,
     "metadata": {},
     "output_type": "execute_result"
    }
   ],
   "source": [
    "minutes = 200\n",
    "minutes / 60\n",
    "# This will convert 200 minutes to hours by dividing by 60"
   ]
  },
  {
   "cell_type": "markdown",
   "id": "ffbbd60b-4e4f-4e61-b0fd-3288a5bb26dc",
   "metadata": {},
   "source": [
    "## Author \n",
    "Josh Mills-Bayne"
   ]
  },
  {
   "cell_type": "code",
   "execution_count": null,
   "id": "98e25580-d2e8-488e-85d0-66d436dc5da7",
   "metadata": {},
   "outputs": [],
   "source": []
  }
 ],
 "metadata": {
  "kernelspec": {
   "display_name": "Python [conda env:DataScienceCredential]",
   "language": "python",
   "name": "conda-env-DataScienceCredential-py"
  },
  "language_info": {
   "codemirror_mode": {
    "name": "ipython",
    "version": 3
   },
   "file_extension": ".py",
   "mimetype": "text/x-python",
   "name": "python",
   "nbconvert_exporter": "python",
   "pygments_lexer": "ipython3",
   "version": "3.12.8"
  }
 },
 "nbformat": 4,
 "nbformat_minor": 5
}
